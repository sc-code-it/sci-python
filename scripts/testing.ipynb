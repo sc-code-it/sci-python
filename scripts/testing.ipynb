{
 "cells": [
  {
   "cell_type": "code",
   "execution_count": 1,
   "metadata": {},
   "outputs": [],
   "source": [
    "import sys \n",
    "path = r'C:\\Users\\Dev\\Coding\\python\\sci\\common'\n",
    "sys.path.insert(1, path)"
   ]
  },
  {
   "cell_type": "code",
   "execution_count": 2,
   "metadata": {},
   "outputs": [],
   "source": [
    "from pathlib import Path\n",
    "\n",
    "import logging\n",
    "import click\n",
    "import yaml\n",
    "import pandas as pd\n",
    "from sklearn.model_selection import train_test_split\n",
    "from sklearn.preprocessing import LabelEncoder\n",
    "\n",
    "from cmn_utility import config_parse\n",
    "from logger_util import setup_logger"
   ]
  },
  {
   "cell_type": "code",
   "execution_count": 3,
   "metadata": {},
   "outputs": [],
   "source": [
    "logging_file = r'../log/etl.log'\n",
    "logger = setup_logger(logging_file)"
   ]
  },
  {
   "cell_type": "code",
   "execution_count": 4,
   "metadata": {},
   "outputs": [],
   "source": [
    "config_file = r'../notebook/config.yml'\n",
    "logger.info(f\"Load config from {config_file}\")\n",
    "config = config_parse(config_file)"
   ]
  },
  {
   "cell_type": "code",
   "execution_count": 5,
   "metadata": {},
   "outputs": [],
   "source": [
    "rawdata_file = config['etl']['raw_data_file']\n",
    "processed_path = Path(config['etl']['processed_path'])\n",
    "test_size = config['etl']['test_size']\n",
    "random_state = config['etl']['random_state']\n",
    "\n",
    "logger.info(f\"config: {config['etl']}\")\n"
   ]
  },
  {
   "cell_type": "code",
   "execution_count": 6,
   "metadata": {},
   "outputs": [],
   "source": [
    "logger.info(\"-------------------Start data transformation-------------------\")\n",
    "wine = pd.read_csv(rawdata_file)\n",
    "\n",
    "bins = (2, 6.5, 8)\n",
    "group_names = [0, 1]\n",
    "wine[\"quality\"] = pd.cut(wine[\"quality\"], bins=bins, labels=group_names)\n",
    "\n",
    "logger.info(f\"wine['quality']: {dict(wine['quality'].value_counts())}\")\n",
    "\n",
    "logger.info(\"End data transformation\")\n"
   ]
  },
  {
   "cell_type": "code",
   "execution_count": 7,
   "metadata": {},
   "outputs": [],
   "source": [
    "logger.info(\"-------------------Train test split & Export-------------------\")\n",
    "train, test = train_test_split(wine, test_size=test_size, random_state=random_state)\n",
    "\n",
    "# export data\n",
    "logger.info(f\"write data to {processed_path}\")\n",
    "train.to_csv(processed_path / \"train.csv\", index=False)\n",
    "test.to_csv(processed_path / \"test.csv\", index=False)\n",
    "logger.info(f\"train: {train.shape}\")\n",
    "logger.info(f\"test: {test.shape}\")\n",
    "logger.info(\"\\n\")"
   ]
  }
 ],
 "metadata": {
  "interpreter": {
   "hash": "a95c404ba6ab6cbd4ee480e69ed701588e25a506f75f59546e6bbba8baea7993"
  },
  "kernelspec": {
   "display_name": "Python 3.9.13 ('sci': venv)",
   "language": "python",
   "name": "python3"
  },
  "language_info": {
   "codemirror_mode": {
    "name": "ipython",
    "version": 3
   },
   "file_extension": ".py",
   "mimetype": "text/x-python",
   "name": "python",
   "nbconvert_exporter": "python",
   "pygments_lexer": "ipython3",
   "version": "3.9.13"
  },
  "orig_nbformat": 4
 },
 "nbformat": 4,
 "nbformat_minor": 2
}
